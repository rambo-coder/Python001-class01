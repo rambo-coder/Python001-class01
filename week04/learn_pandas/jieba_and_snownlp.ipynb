{
 "cells": [
  {
   "cell_type": "code",
   "execution_count": 1,
   "metadata": {},
   "outputs": [],
   "source": [
    "import jieba"
   ]
  },
  {
   "cell_type": "code",
   "execution_count": 4,
   "metadata": {},
   "outputs": [],
   "source": [
    "strings = ['我来自极客大学','python进阶训练营真好玩']"
   ]
  },
  {
   "cell_type": "code",
   "execution_count": 5,
   "metadata": {},
   "outputs": [
    {
     "name": "stderr",
     "output_type": "stream",
     "text": [
      "Building prefix dict from the default dictionary ...\n",
      "Dumping model to file cache C:\\Users\\I506596\\AppData\\Local\\Temp\\jieba.cache\n",
      "Loading model cost 0.803 seconds.\n",
      "Prefix dict has been built succesfully.\n"
     ]
    },
    {
     "name": "stdout",
     "output_type": "stream",
     "text": [
      "Default Mode: 我/来自/极客/大学\n",
      "Default Mode: python/进阶/训练营/真好玩\n"
     ]
    }
   ],
   "source": [
    "for string in strings:\n",
    "    result = jieba.cut(string,cut_all=False)\n",
    "    print('Default Mode: ' + '/'.join((list(result))))"
   ]
  },
  {
   "cell_type": "code",
   "execution_count": 6,
   "metadata": {},
   "outputs": [
    {
     "name": "stdout",
     "output_type": "stream",
     "text": [
      "Full Mode: 我/来自/极/客/大学\n",
      "Full Mode: python/进阶/训练/训练营/真好/真好玩/好玩\n"
     ]
    }
   ],
   "source": [
    "for string in strings:\n",
    "    result = jieba.cut(string,cut_all=True)\n",
    "    print('Full Mode: ' + '/'.join(list(result)))\n",
    "    "
   ]
  },
  {
   "cell_type": "code",
   "execution_count": 7,
   "metadata": {},
   "outputs": [
    {
     "name": "stdout",
     "output_type": "stream",
     "text": [
      "钟南山/院士/接受/采访/新冠/肺炎/不会/二次/爆发\n"
     ]
    }
   ],
   "source": [
    "result = jieba.cut('钟南山院士接受采访新冠肺炎不会二次爆发')\n",
    "print('/'.join(list(result)))"
   ]
  },
  {
   "cell_type": "code",
   "execution_count": 8,
   "metadata": {},
   "outputs": [
    {
     "name": "stdout",
     "output_type": "stream",
     "text": [
      "Search Mode: 小明/硕士/毕业/于/中国/科学/学院/科学院/中国科学院/计算/计算所/，/后/在/日本/京都/大学/日本京都大学/深造\n"
     ]
    }
   ],
   "source": [
    "result = jieba.cut_for_search('小明硕士毕业于中国科学院计算所，后在日本京都大学深造')\n",
    "print('Search Mode: ' + '/'.join(list(result)))"
   ]
  },
  {
   "cell_type": "markdown",
   "metadata": {},
   "source": [
    "# p2_keyword"
   ]
  },
  {
   "cell_type": "code",
   "execution_count": 9,
   "metadata": {},
   "outputs": [],
   "source": [
    "import jieba.analyse\n",
    "text = '机器学习，需要一定的数学基础，需要掌握的数学基础知识特别多，如果从头到尾开始学，估计大部分人来不及，我建议先学习最基础的数学知识'"
   ]
  },
  {
   "cell_type": "code",
   "execution_count": 10,
   "metadata": {},
   "outputs": [],
   "source": [
    "tfidf = jieba.analyse.extract_tags(text,topK=5,withWeight=True)"
   ]
  },
  {
   "cell_type": "code",
   "execution_count": 11,
   "metadata": {},
   "outputs": [],
   "source": [
    "textrank = jieba.analyse.textrank(text,topK=5,withWeight=False)"
   ]
  },
  {
   "cell_type": "code",
   "execution_count": 13,
   "metadata": {},
   "outputs": [
    {
     "name": "stdout",
     "output_type": "stream",
     "text": [
      "[('数学', 0.6293657596000001),\n",
      " ('学习', 0.5502018873247619),\n",
      " ('数学知识', 0.5192831132571429),\n",
      " ('基础知识', 0.4862761046619048),\n",
      " ('从头到尾', 0.4538680856909523)]\n"
     ]
    }
   ],
   "source": [
    "import pprint\n",
    "pprint.pprint(tfidf)"
   ]
  },
  {
   "cell_type": "code",
   "execution_count": 14,
   "metadata": {},
   "outputs": [
    {
     "name": "stdout",
     "output_type": "stream",
     "text": [
      "[('数学', 0.6293657596000001), ('学习', 0.5502018873247619), ('数学知识', 0.5192831132571429), ('基础知识', 0.4862761046619048), ('从头到尾', 0.4538680856909523)]\n"
     ]
    }
   ],
   "source": [
    "print(tfidf)"
   ]
  },
  {
   "cell_type": "code",
   "execution_count": 15,
   "metadata": {},
   "outputs": [
    {
     "name": "stdout",
     "output_type": "stream",
     "text": [
      "['需要', '基础', '数学', '学习', '掌握']\n"
     ]
    }
   ],
   "source": [
    "pprint.pprint(textrank)"
   ]
  },
  {
   "cell_type": "markdown",
   "metadata": {},
   "source": [
    "# p3_stopword"
   ]
  },
  {
   "cell_type": "code",
   "execution_count": 18,
   "metadata": {},
   "outputs": [],
   "source": [
    "import jieba\n",
    "import jieba.analyse\n",
    "\n",
    "text = '机器学习，需要一定的数学基础，需要掌握的数学基础知识特别多，如果从头到尾开始学，估计大部分人来不及，我建议先学习最基础的数学知识'"
   ]
  },
  {
   "cell_type": "code",
   "execution_count": 21,
   "metadata": {},
   "outputs": [],
   "source": [
    "stop_words = r'extra_dict/stop_words.txt'"
   ]
  },
  {
   "cell_type": "code",
   "execution_count": 22,
   "metadata": {},
   "outputs": [],
   "source": [
    "jieba.analyse.set_stop_words(stop_words)"
   ]
  },
  {
   "cell_type": "code",
   "execution_count": 23,
   "metadata": {},
   "outputs": [],
   "source": [
    "textrank = jieba.analyse.textrank(text,\n",
    "                                 topK=5,\n",
    "                                 withWeight=False)"
   ]
  },
  {
   "cell_type": "code",
   "execution_count": 24,
   "metadata": {},
   "outputs": [
    {
     "name": "stdout",
     "output_type": "stream",
     "text": [
      "['学习', '基础', '建议', '估计', '数学']\n"
     ]
    }
   ],
   "source": [
    "import pprint\n",
    "pprint.pprint(textrank)"
   ]
  },
  {
   "cell_type": "markdown",
   "metadata": {},
   "source": [
    "# p4_dict"
   ]
  },
  {
   "cell_type": "code",
   "execution_count": 25,
   "metadata": {},
   "outputs": [],
   "source": [
    "import jieba\n",
    "\n",
    "string = '极客大学python进阶训练营真好玩'\n",
    "user_dict = r'extra_dict/user_dict.txt'"
   ]
  },
  {
   "cell_type": "code",
   "execution_count": 26,
   "metadata": {},
   "outputs": [],
   "source": [
    "jieba.load_userdict(user_dict)"
   ]
  },
  {
   "cell_type": "code",
   "execution_count": 27,
   "metadata": {},
   "outputs": [],
   "source": [
    "result = jieba.cut(string,cut_all=False)"
   ]
  },
  {
   "cell_type": "code",
   "execution_count": 28,
   "metadata": {},
   "outputs": [
    {
     "name": "stdout",
     "output_type": "stream",
     "text": [
      "自定义：极客/大学/python/进阶/训练营/真好玩\n"
     ]
    }
   ],
   "source": [
    "print('自定义：'+'/'.join((list(result))))"
   ]
  },
  {
   "cell_type": "code",
   "execution_count": 29,
   "metadata": {},
   "outputs": [
    {
     "name": "stdout",
     "output_type": "stream",
     "text": [
      "========================================\n"
     ]
    }
   ],
   "source": [
    "print('='*40)"
   ]
  },
  {
   "cell_type": "code",
   "execution_count": 30,
   "metadata": {},
   "outputs": [],
   "source": [
    "jieba.add_word('极客时间')"
   ]
  },
  {
   "cell_type": "code",
   "execution_count": 31,
   "metadata": {},
   "outputs": [],
   "source": [
    "jieba.del_word('自定义词')"
   ]
  },
  {
   "cell_type": "code",
   "execution_count": 32,
   "metadata": {},
   "outputs": [],
   "source": [
    "result = jieba.cut(string,cut_all=False)"
   ]
  },
  {
   "cell_type": "code",
   "execution_count": 33,
   "metadata": {},
   "outputs": [
    {
     "name": "stdout",
     "output_type": "stream",
     "text": [
      "动态添加：极客/大学/python/进阶/训练营/真好玩\n"
     ]
    }
   ],
   "source": [
    "print('动态添加：'+'/'.join(list(result)))"
   ]
  },
  {
   "cell_type": "code",
   "execution_count": 34,
   "metadata": {},
   "outputs": [],
   "source": [
    "string2 = '我们中间出了一个叛徒'"
   ]
  },
  {
   "cell_type": "code",
   "execution_count": 35,
   "metadata": {},
   "outputs": [],
   "source": [
    "result = jieba.cut(string2,cut_all=False)"
   ]
  },
  {
   "cell_type": "code",
   "execution_count": 36,
   "metadata": {},
   "outputs": [
    {
     "name": "stdout",
     "output_type": "stream",
     "text": [
      "错误分词：我们/中间/出/了/一个/叛徒\n"
     ]
    }
   ],
   "source": [
    "print('错误分词：'+'/'.join(list(result)))\n"
   ]
  },
  {
   "cell_type": "code",
   "execution_count": 37,
   "metadata": {},
   "outputs": [
    {
     "name": "stdout",
     "output_type": "stream",
     "text": [
      "关闭词频：我们/中间/出/了/一个/叛徒\n"
     ]
    }
   ],
   "source": [
    "result = jieba.cut(string2,HMM=False)\n",
    "print('关闭词频：'+'/'.join(list(result)))"
   ]
  },
  {
   "cell_type": "code",
   "execution_count": 41,
   "metadata": {},
   "outputs": [],
   "source": [
    "string3 = '如果放到Post中将出错'\n",
    "jieba.suggest_freq(('中','将'),True)\n",
    "result = jieba.cut(string3,HMM=False)"
   ]
  },
  {
   "cell_type": "code",
   "execution_count": 42,
   "metadata": {},
   "outputs": [
    {
     "name": "stdout",
     "output_type": "stream",
     "text": [
      "分开分词：如果/放到/Post/中/将/出错\n"
     ]
    }
   ],
   "source": [
    "print('分开分词：'+'/'.join(list(result)))"
   ]
  },
  {
   "cell_type": "markdown",
   "metadata": {},
   "source": [
    "# snownlp"
   ]
  },
  {
   "cell_type": "code",
   "execution_count": 43,
   "metadata": {},
   "outputs": [],
   "source": [
    "from snownlp import SnowNLP\n",
    "text = '其实故事本来真的只值三星当初的中篇就足够了但是啊看到最后我又一次被东野叔的反战思想打动了所以就加多一星吧'\n",
    "s = SnowNLP(text)"
   ]
  },
  {
   "cell_type": "code",
   "execution_count": 44,
   "metadata": {},
   "outputs": [
    {
     "data": {
      "text/plain": [
       "['其实',\n",
       " '故事',\n",
       " '本来',\n",
       " '真的',\n",
       " '只值',\n",
       " '三星',\n",
       " '当初',\n",
       " '的',\n",
       " '中篇',\n",
       " '就',\n",
       " '足够',\n",
       " '了',\n",
       " '但是',\n",
       " '啊',\n",
       " '看到',\n",
       " '最后',\n",
       " '我',\n",
       " '又',\n",
       " '一',\n",
       " '次',\n",
       " '被东',\n",
       " '野',\n",
       " '叔',\n",
       " '的',\n",
       " '反战',\n",
       " '思想',\n",
       " '打动',\n",
       " '了',\n",
       " '所以',\n",
       " '就',\n",
       " '加',\n",
       " '多',\n",
       " '一',\n",
       " '星',\n",
       " '吧']"
      ]
     },
     "execution_count": 44,
     "metadata": {},
     "output_type": "execute_result"
    }
   ],
   "source": [
    "s.words"
   ]
  },
  {
   "cell_type": "code",
   "execution_count": 45,
   "metadata": {},
   "outputs": [
    {
     "data": {
      "text/plain": [
       "[('其实', 'd'),\n",
       " ('故事', 'n'),\n",
       " ('本来', 'd'),\n",
       " ('真的', 'd'),\n",
       " ('只值', 'p'),\n",
       " ('三星', 'nz'),\n",
       " ('当初', 't'),\n",
       " ('的', 'u'),\n",
       " ('中篇', 'n'),\n",
       " ('就', 'd'),\n",
       " ('足够', 'v'),\n",
       " ('了', 'u'),\n",
       " ('但是', 'c'),\n",
       " ('啊', 'y'),\n",
       " ('看到', 'v'),\n",
       " ('最后', 'f'),\n",
       " ('我', 'r'),\n",
       " ('又', 'd'),\n",
       " ('一', 'm'),\n",
       " ('次', 'q'),\n",
       " ('被东', 'h'),\n",
       " ('野', 'b'),\n",
       " ('叔', 'n'),\n",
       " ('的', 'u'),\n",
       " ('反战', 'b'),\n",
       " ('思想', 'n'),\n",
       " ('打动', 'v'),\n",
       " ('了', 'u'),\n",
       " ('所以', 'c'),\n",
       " ('就', 'd'),\n",
       " ('加', 'v'),\n",
       " ('多', 'm'),\n",
       " ('一', 'm'),\n",
       " ('星', 'n'),\n",
       " ('吧', 'y')]"
      ]
     },
     "execution_count": 45,
     "metadata": {},
     "output_type": "execute_result"
    }
   ],
   "source": [
    "list(s.tags)"
   ]
  },
  {
   "cell_type": "code",
   "execution_count": 46,
   "metadata": {},
   "outputs": [
    {
     "data": {
      "text/plain": [
       "0.9995923786164326"
      ]
     },
     "execution_count": 46,
     "metadata": {},
     "output_type": "execute_result"
    }
   ],
   "source": [
    "s.sentiments"
   ]
  },
  {
   "cell_type": "code",
   "execution_count": 47,
   "metadata": {},
   "outputs": [],
   "source": [
    "text2 = '这本书烂透了'"
   ]
  },
  {
   "cell_type": "code",
   "execution_count": 48,
   "metadata": {},
   "outputs": [],
   "source": [
    "s2 = SnowNLP(text2)"
   ]
  },
  {
   "cell_type": "code",
   "execution_count": 49,
   "metadata": {},
   "outputs": [
    {
     "data": {
      "text/plain": [
       "0.49375411042752326"
      ]
     },
     "execution_count": 49,
     "metadata": {},
     "output_type": "execute_result"
    }
   ],
   "source": [
    "s2.sentiments"
   ]
  },
  {
   "cell_type": "code",
   "execution_count": 50,
   "metadata": {},
   "outputs": [
    {
     "data": {
      "text/plain": [
       "['qi',\n",
       " 'shi',\n",
       " 'gu',\n",
       " 'shi',\n",
       " 'ben',\n",
       " 'lai',\n",
       " 'zhen',\n",
       " 'de',\n",
       " 'zhi',\n",
       " 'zhi',\n",
       " 'san',\n",
       " 'xing',\n",
       " 'dang',\n",
       " 'chu',\n",
       " 'de',\n",
       " 'zhong',\n",
       " 'pian',\n",
       " 'jiu',\n",
       " 'zu',\n",
       " 'gou',\n",
       " 'liao',\n",
       " 'dan',\n",
       " 'shi',\n",
       " 'a',\n",
       " 'kan',\n",
       " 'dao',\n",
       " 'zui',\n",
       " 'hou',\n",
       " 'wo',\n",
       " 'you',\n",
       " 'yi',\n",
       " 'ci',\n",
       " 'bei',\n",
       " 'dong',\n",
       " 'ye',\n",
       " 'shu',\n",
       " 'de',\n",
       " 'fan',\n",
       " 'zhan',\n",
       " 'si',\n",
       " 'xiang',\n",
       " 'da',\n",
       " 'dong',\n",
       " 'liao',\n",
       " 'suo',\n",
       " 'yi',\n",
       " 'jiu',\n",
       " 'jia',\n",
       " 'duo',\n",
       " 'yi',\n",
       " 'xing',\n",
       " 'ba']"
      ]
     },
     "execution_count": 50,
     "metadata": {},
     "output_type": "execute_result"
    }
   ],
   "source": [
    "s.pinyin"
   ]
  },
  {
   "cell_type": "code",
   "execution_count": 51,
   "metadata": {},
   "outputs": [
    {
     "data": {
      "text/plain": [
       "['反战', '三星', '叔', '当初', '野']"
      ]
     },
     "execution_count": 51,
     "metadata": {},
     "output_type": "execute_result"
    }
   ],
   "source": [
    "s.keywords(limit=5)"
   ]
  },
  {
   "cell_type": "code",
   "execution_count": 52,
   "metadata": {},
   "outputs": [
    {
     "data": {
      "text/plain": [
       "[{'其': 1},\n",
       " {'实': 1},\n",
       " {'故': 1},\n",
       " {'事': 1},\n",
       " {'本': 1},\n",
       " {'来': 1},\n",
       " {'真': 1},\n",
       " {'的': 1},\n",
       " {'只': 1},\n",
       " {'值': 1},\n",
       " {'三': 1},\n",
       " {'星': 1},\n",
       " {'当': 1},\n",
       " {'初': 1},\n",
       " {'的': 1},\n",
       " {'中': 1},\n",
       " {'篇': 1},\n",
       " {'就': 1},\n",
       " {'足': 1},\n",
       " {'够': 1},\n",
       " {'了': 1},\n",
       " {'但': 1},\n",
       " {'是': 1},\n",
       " {'啊': 1},\n",
       " {'看': 1},\n",
       " {'到': 1},\n",
       " {'最': 1},\n",
       " {'后': 1},\n",
       " {'我': 1},\n",
       " {'又': 1},\n",
       " {'一': 1},\n",
       " {'次': 1},\n",
       " {'被': 1},\n",
       " {'东': 1},\n",
       " {'野': 1},\n",
       " {'叔': 1},\n",
       " {'的': 1},\n",
       " {'反': 1},\n",
       " {'战': 1},\n",
       " {'思': 1},\n",
       " {'想': 1},\n",
       " {'打': 1},\n",
       " {'动': 1},\n",
       " {'了': 1},\n",
       " {'所': 1},\n",
       " {'以': 1},\n",
       " {'就': 1},\n",
       " {'加': 1},\n",
       " {'多': 1},\n",
       " {'一': 1},\n",
       " {'星': 1},\n",
       " {'吧': 1}]"
      ]
     },
     "execution_count": 52,
     "metadata": {},
     "output_type": "execute_result"
    }
   ],
   "source": [
    "s.tf"
   ]
  },
  {
   "cell_type": "code",
   "execution_count": 53,
   "metadata": {},
   "outputs": [
    {
     "data": {
      "text/plain": [
       "{'其': 3.536116699561526,\n",
       " '实': 3.536116699561526,\n",
       " '故': 3.536116699561526,\n",
       " '事': 3.536116699561526,\n",
       " '本': 3.536116699561526,\n",
       " '来': 3.536116699561526,\n",
       " '真': 3.536116699561526,\n",
       " '的': 2.649209701079277,\n",
       " '只': 3.536116699561526,\n",
       " '值': 3.536116699561526,\n",
       " '三': 3.536116699561526,\n",
       " '星': 3.005682604407159,\n",
       " '当': 3.536116699561526,\n",
       " '初': 3.536116699561526,\n",
       " '中': 3.536116699561526,\n",
       " '篇': 3.536116699561526,\n",
       " '就': 3.005682604407159,\n",
       " '足': 3.536116699561526,\n",
       " '够': 3.536116699561526,\n",
       " '了': 3.005682604407159,\n",
       " '但': 3.536116699561526,\n",
       " '是': 3.536116699561526,\n",
       " '啊': 3.536116699561526,\n",
       " '看': 3.536116699561526,\n",
       " '到': 3.536116699561526,\n",
       " '最': 3.536116699561526,\n",
       " '后': 3.536116699561526,\n",
       " '我': 3.536116699561526,\n",
       " '又': 3.536116699561526,\n",
       " '一': 3.005682604407159,\n",
       " '次': 3.536116699561526,\n",
       " '被': 3.536116699561526,\n",
       " '东': 3.536116699561526,\n",
       " '野': 3.536116699561526,\n",
       " '叔': 3.536116699561526,\n",
       " '反': 3.536116699561526,\n",
       " '战': 3.536116699561526,\n",
       " '思': 3.536116699561526,\n",
       " '想': 3.536116699561526,\n",
       " '打': 3.536116699561526,\n",
       " '动': 3.536116699561526,\n",
       " '所': 3.536116699561526,\n",
       " '以': 3.536116699561526,\n",
       " '加': 3.536116699561526,\n",
       " '多': 3.536116699561526,\n",
       " '吧': 3.536116699561526}"
      ]
     },
     "execution_count": 53,
     "metadata": {},
     "output_type": "execute_result"
    }
   ],
   "source": [
    "s.idf"
   ]
  },
  {
   "cell_type": "code",
   "execution_count": 54,
   "metadata": {},
   "outputs": [],
   "source": [
    "import pandas as pd\n",
    "from snownlp import SnowNLP"
   ]
  },
  {
   "cell_type": "code",
   "execution_count": 55,
   "metadata": {},
   "outputs": [],
   "source": [
    "df = pd.read_csv('book_utf8.csv')"
   ]
  },
  {
   "cell_type": "code",
   "execution_count": 57,
   "metadata": {},
   "outputs": [],
   "source": [
    "df.columns = ['comment','rate','note']"
   ]
  },
  {
   "cell_type": "code",
   "execution_count": 58,
   "metadata": {},
   "outputs": [
    {
     "data": {
      "text/html": [
       "<div>\n",
       "<style scoped>\n",
       "    .dataframe tbody tr th:only-of-type {\n",
       "        vertical-align: middle;\n",
       "    }\n",
       "\n",
       "    .dataframe tbody tr th {\n",
       "        vertical-align: top;\n",
       "    }\n",
       "\n",
       "    .dataframe thead th {\n",
       "        text-align: right;\n",
       "    }\n",
       "</style>\n",
       "<table border=\"1\" class=\"dataframe\">\n",
       "  <thead>\n",
       "    <tr style=\"text-align: right;\">\n",
       "      <th></th>\n",
       "      <th>comment</th>\n",
       "      <th>rate</th>\n",
       "      <th>note</th>\n",
       "    </tr>\n",
       "  </thead>\n",
       "  <tbody>\n",
       "    <tr>\n",
       "      <th>0</th>\n",
       "      <td>较差</td>\n",
       "      <td>10</td>\n",
       "      <td>我们阿东开始炒冷饭了吗？把《禁忌魔术》中的短篇《猛射》拉长了写。。。</td>\n",
       "    </tr>\n",
       "    <tr>\n",
       "      <th>1</th>\n",
       "      <td>还行</td>\n",
       "      <td>5</td>\n",
       "      <td>其实就是《猛射》，原封不动地。看了才发现又重看了一次。</td>\n",
       "    </tr>\n",
       "    <tr>\n",
       "      <th>2</th>\n",
       "      <td>力荐</td>\n",
       "      <td>5</td>\n",
       "      <td>东野圭吾说这本书里的汤川是整个伽利略系列里最优秀的，我倒觉得是整个系列里情商最上线、最聪明的一次</td>\n",
       "    </tr>\n",
       "    <tr>\n",
       "      <th>3</th>\n",
       "      <td>还行</td>\n",
       "      <td>3</td>\n",
       "      <td>作为扩写还是蛮成功的，本来点子就很赞，只写个短篇浪费了，长篇把相关人员的行为逻辑描写的更充分...</td>\n",
       "    </tr>\n",
       "    <tr>\n",
       "      <th>4</th>\n",
       "      <td>很差</td>\n",
       "      <td>2</td>\n",
       "      <td>这本就是上海译文之前出过的《禁忌的魔术》里的一个稍长一些的中长篇《猛射》，完全没有扩写只是单...</td>\n",
       "    </tr>\n",
       "    <tr>\n",
       "      <th>...</th>\n",
       "      <td>...</td>\n",
       "      <td>...</td>\n",
       "      <td>...</td>\n",
       "    </tr>\n",
       "    <tr>\n",
       "      <th>575</th>\n",
       "      <td>较差</td>\n",
       "      <td>0</td>\n",
       "      <td>感觉像是什么有教育意义的故事，并不像推理（。</td>\n",
       "    </tr>\n",
       "    <tr>\n",
       "      <th>576</th>\n",
       "      <td>还行</td>\n",
       "      <td>0</td>\n",
       "      <td>50页的短篇写成300页的长篇，东野老贼也网文化了，昏昏欲睡的一本小说</td>\n",
       "    </tr>\n",
       "    <tr>\n",
       "      <th>577</th>\n",
       "      <td>力荐</td>\n",
       "      <td>0</td>\n",
       "      <td>本来看着这个书名和开头的内容一点点引人入胜，是不错的题材，但最后结局没有任何新意，没有灵魂的...</td>\n",
       "    </tr>\n",
       "    <tr>\n",
       "      <th>578</th>\n",
       "      <td>推荐</td>\n",
       "      <td>1</td>\n",
       "      <td>书写的很好啦，但单单把禁忌魔术最后一个短篇拿出来，还扩写了，这个是神马操作？？？！！！真心好...</td>\n",
       "    </tr>\n",
       "    <tr>\n",
       "      <th>579</th>\n",
       "      <td>力荐</td>\n",
       "      <td>0</td>\n",
       "      <td>科学技术是双刃剑呀，关键在于使用者。\\r\\n秋惠是个迷，大贺心狠，汤川是个以德以情教化学生的...</td>\n",
       "    </tr>\n",
       "  </tbody>\n",
       "</table>\n",
       "<p>580 rows × 3 columns</p>\n",
       "</div>"
      ],
      "text/plain": [
       "    comment  rate                                               note\n",
       "0        较差    10                 我们阿东开始炒冷饭了吗？把《禁忌魔术》中的短篇《猛射》拉长了写。。。\n",
       "1        还行     5                        其实就是《猛射》，原封不动地。看了才发现又重看了一次。\n",
       "2        力荐     5   东野圭吾说这本书里的汤川是整个伽利略系列里最优秀的，我倒觉得是整个系列里情商最上线、最聪明的一次\n",
       "3        还行     3  作为扩写还是蛮成功的，本来点子就很赞，只写个短篇浪费了，长篇把相关人员的行为逻辑描写的更充分...\n",
       "4        很差     2  这本就是上海译文之前出过的《禁忌的魔术》里的一个稍长一些的中长篇《猛射》，完全没有扩写只是单...\n",
       "..      ...   ...                                                ...\n",
       "575      较差     0                             感觉像是什么有教育意义的故事，并不像推理（。\n",
       "576      还行     0                50页的短篇写成300页的长篇，东野老贼也网文化了，昏昏欲睡的一本小说\n",
       "577      力荐     0  本来看着这个书名和开头的内容一点点引人入胜，是不错的题材，但最后结局没有任何新意，没有灵魂的...\n",
       "578      推荐     1  书写的很好啦，但单单把禁忌魔术最后一个短篇拿出来，还扩写了，这个是神马操作？？？！！！真心好...\n",
       "579      力荐     0  科学技术是双刃剑呀，关键在于使用者。\\r\\n秋惠是个迷，大贺心狠，汤川是个以德以情教化学生的...\n",
       "\n",
       "[580 rows x 3 columns]"
      ]
     },
     "execution_count": 58,
     "metadata": {},
     "output_type": "execute_result"
    }
   ],
   "source": [
    "df"
   ]
  },
  {
   "cell_type": "markdown",
   "metadata": {},
   "source": [
    "# p2_sentiment"
   ]
  },
  {
   "cell_type": "code",
   "execution_count": 59,
   "metadata": {},
   "outputs": [],
   "source": [
    "comment_to_number = {\n",
    "    '力荐':5,\n",
    "    '推荐':4,\n",
    "    '还行':3,\n",
    "    '较差':2,\n",
    "    '很差':1\n",
    "}"
   ]
  },
  {
   "cell_type": "code",
   "execution_count": 60,
   "metadata": {},
   "outputs": [],
   "source": [
    "df['new_comment'] = df['comment'].map(comment_to_number)"
   ]
  },
  {
   "cell_type": "code",
   "execution_count": 61,
   "metadata": {},
   "outputs": [],
   "source": [
    "first_line = df[df['new_comment']==3].iloc[0]"
   ]
  },
  {
   "cell_type": "code",
   "execution_count": 62,
   "metadata": {},
   "outputs": [],
   "source": [
    "text = first_line['note']"
   ]
  },
  {
   "cell_type": "code",
   "execution_count": 63,
   "metadata": {},
   "outputs": [],
   "source": [
    "s = SnowNLP(text)"
   ]
  },
  {
   "cell_type": "code",
   "execution_count": 65,
   "metadata": {},
   "outputs": [
    {
     "name": "stdout",
     "output_type": "stream",
     "text": [
      "情感倾向：0.9449562466740141,文本内容：其实就是《猛射》，原封不动地。看了才发现又重看了一次。\n"
     ]
    }
   ],
   "source": [
    "print(f'情感倾向：{s.sentiments},文本内容：{text}')"
   ]
  },
  {
   "cell_type": "code",
   "execution_count": 68,
   "metadata": {},
   "outputs": [],
   "source": [
    "def _sentiment(text):\n",
    "    s = SnowNLP(text)\n",
    "    return s.sentiments\n",
    "\n"
   ]
  },
  {
   "cell_type": "code",
   "execution_count": 69,
   "metadata": {},
   "outputs": [],
   "source": [
    "df['sentiment'] = df.note.apply(_sentiment)"
   ]
  },
  {
   "cell_type": "code",
   "execution_count": 70,
   "metadata": {},
   "outputs": [
    {
     "data": {
      "text/html": [
       "<div>\n",
       "<style scoped>\n",
       "    .dataframe tbody tr th:only-of-type {\n",
       "        vertical-align: middle;\n",
       "    }\n",
       "\n",
       "    .dataframe tbody tr th {\n",
       "        vertical-align: top;\n",
       "    }\n",
       "\n",
       "    .dataframe thead th {\n",
       "        text-align: right;\n",
       "    }\n",
       "</style>\n",
       "<table border=\"1\" class=\"dataframe\">\n",
       "  <thead>\n",
       "    <tr style=\"text-align: right;\">\n",
       "      <th></th>\n",
       "      <th>comment</th>\n",
       "      <th>rate</th>\n",
       "      <th>note</th>\n",
       "      <th>new_comment</th>\n",
       "      <th>sentiment</th>\n",
       "    </tr>\n",
       "  </thead>\n",
       "  <tbody>\n",
       "    <tr>\n",
       "      <th>0</th>\n",
       "      <td>较差</td>\n",
       "      <td>10</td>\n",
       "      <td>我们阿东开始炒冷饭了吗？把《禁忌魔术》中的短篇《猛射》拉长了写。。。</td>\n",
       "      <td>2</td>\n",
       "      <td>0.999497</td>\n",
       "    </tr>\n",
       "    <tr>\n",
       "      <th>1</th>\n",
       "      <td>还行</td>\n",
       "      <td>5</td>\n",
       "      <td>其实就是《猛射》，原封不动地。看了才发现又重看了一次。</td>\n",
       "      <td>3</td>\n",
       "      <td>0.944956</td>\n",
       "    </tr>\n",
       "    <tr>\n",
       "      <th>2</th>\n",
       "      <td>力荐</td>\n",
       "      <td>5</td>\n",
       "      <td>东野圭吾说这本书里的汤川是整个伽利略系列里最优秀的，我倒觉得是整个系列里情商最上线、最聪明的一次</td>\n",
       "      <td>5</td>\n",
       "      <td>0.999871</td>\n",
       "    </tr>\n",
       "    <tr>\n",
       "      <th>3</th>\n",
       "      <td>还行</td>\n",
       "      <td>3</td>\n",
       "      <td>作为扩写还是蛮成功的，本来点子就很赞，只写个短篇浪费了，长篇把相关人员的行为逻辑描写的更充分...</td>\n",
       "      <td>3</td>\n",
       "      <td>0.999851</td>\n",
       "    </tr>\n",
       "    <tr>\n",
       "      <th>4</th>\n",
       "      <td>很差</td>\n",
       "      <td>2</td>\n",
       "      <td>这本就是上海译文之前出过的《禁忌的魔术》里的一个稍长一些的中长篇《猛射》，完全没有扩写只是单...</td>\n",
       "      <td>1</td>\n",
       "      <td>1.000000</td>\n",
       "    </tr>\n",
       "  </tbody>\n",
       "</table>\n",
       "</div>"
      ],
      "text/plain": [
       "  comment  rate                                               note  \\\n",
       "0      较差    10                 我们阿东开始炒冷饭了吗？把《禁忌魔术》中的短篇《猛射》拉长了写。。。   \n",
       "1      还行     5                        其实就是《猛射》，原封不动地。看了才发现又重看了一次。   \n",
       "2      力荐     5   东野圭吾说这本书里的汤川是整个伽利略系列里最优秀的，我倒觉得是整个系列里情商最上线、最聪明的一次   \n",
       "3      还行     3  作为扩写还是蛮成功的，本来点子就很赞，只写个短篇浪费了，长篇把相关人员的行为逻辑描写的更充分...   \n",
       "4      很差     2  这本就是上海译文之前出过的《禁忌的魔术》里的一个稍长一些的中长篇《猛射》，完全没有扩写只是单...   \n",
       "\n",
       "   new_comment  sentiment  \n",
       "0            2   0.999497  \n",
       "1            3   0.944956  \n",
       "2            5   0.999871  \n",
       "3            3   0.999851  \n",
       "4            1   1.000000  "
      ]
     },
     "execution_count": 70,
     "metadata": {},
     "output_type": "execute_result"
    }
   ],
   "source": [
    "df.head()"
   ]
  },
  {
   "cell_type": "code",
   "execution_count": 71,
   "metadata": {},
   "outputs": [
    {
     "data": {
      "text/html": [
       "<div>\n",
       "<style scoped>\n",
       "    .dataframe tbody tr th:only-of-type {\n",
       "        vertical-align: middle;\n",
       "    }\n",
       "\n",
       "    .dataframe tbody tr th {\n",
       "        vertical-align: top;\n",
       "    }\n",
       "\n",
       "    .dataframe thead th {\n",
       "        text-align: right;\n",
       "    }\n",
       "</style>\n",
       "<table border=\"1\" class=\"dataframe\">\n",
       "  <thead>\n",
       "    <tr style=\"text-align: right;\">\n",
       "      <th></th>\n",
       "      <th>comment</th>\n",
       "      <th>rate</th>\n",
       "      <th>note</th>\n",
       "      <th>new_comment</th>\n",
       "      <th>sentiment</th>\n",
       "    </tr>\n",
       "  </thead>\n",
       "  <tbody>\n",
       "    <tr>\n",
       "      <th>0</th>\n",
       "      <td>较差</td>\n",
       "      <td>10</td>\n",
       "      <td>我们阿东开始炒冷饭了吗？把《禁忌魔术》中的短篇《猛射》拉长了写。。。</td>\n",
       "      <td>2</td>\n",
       "      <td>0.999497</td>\n",
       "    </tr>\n",
       "    <tr>\n",
       "      <th>1</th>\n",
       "      <td>还行</td>\n",
       "      <td>5</td>\n",
       "      <td>其实就是《猛射》，原封不动地。看了才发现又重看了一次。</td>\n",
       "      <td>3</td>\n",
       "      <td>0.944956</td>\n",
       "    </tr>\n",
       "    <tr>\n",
       "      <th>2</th>\n",
       "      <td>力荐</td>\n",
       "      <td>5</td>\n",
       "      <td>东野圭吾说这本书里的汤川是整个伽利略系列里最优秀的，我倒觉得是整个系列里情商最上线、最聪明的一次</td>\n",
       "      <td>5</td>\n",
       "      <td>0.999871</td>\n",
       "    </tr>\n",
       "    <tr>\n",
       "      <th>3</th>\n",
       "      <td>还行</td>\n",
       "      <td>3</td>\n",
       "      <td>作为扩写还是蛮成功的，本来点子就很赞，只写个短篇浪费了，长篇把相关人员的行为逻辑描写的更充分...</td>\n",
       "      <td>3</td>\n",
       "      <td>0.999851</td>\n",
       "    </tr>\n",
       "    <tr>\n",
       "      <th>4</th>\n",
       "      <td>很差</td>\n",
       "      <td>2</td>\n",
       "      <td>这本就是上海译文之前出过的《禁忌的魔术》里的一个稍长一些的中长篇《猛射》，完全没有扩写只是单...</td>\n",
       "      <td>1</td>\n",
       "      <td>1.000000</td>\n",
       "    </tr>\n",
       "    <tr>\n",
       "      <th>5</th>\n",
       "      <td>还行</td>\n",
       "      <td>0</td>\n",
       "      <td>科技没有善恶，但利用科技的人有。</td>\n",
       "      <td>3</td>\n",
       "      <td>0.959072</td>\n",
       "    </tr>\n",
       "    <tr>\n",
       "      <th>6</th>\n",
       "      <td>还行</td>\n",
       "      <td>1</td>\n",
       "      <td>红色封面是短篇，蓝色封面是是短篇中的一篇短篇写成的长篇。</td>\n",
       "      <td>3</td>\n",
       "      <td>0.997984</td>\n",
       "    </tr>\n",
       "    <tr>\n",
       "      <th>7</th>\n",
       "      <td>还行</td>\n",
       "      <td>2</td>\n",
       "      <td>这个故事写得太无趣敷衍了</td>\n",
       "      <td>3</td>\n",
       "      <td>0.199196</td>\n",
       "    </tr>\n",
       "    <tr>\n",
       "      <th>8</th>\n",
       "      <td>还行</td>\n",
       "      <td>2</td>\n",
       "      <td>还行吧，感觉情节没有其他书那么精彩，更多的是在知道既定真相的前提下追查求证。很喜欢汤川的人设。</td>\n",
       "      <td>3</td>\n",
       "      <td>0.999436</td>\n",
       "    </tr>\n",
       "    <tr>\n",
       "      <th>9</th>\n",
       "      <td>还行</td>\n",
       "      <td>1</td>\n",
       "      <td>科学往往会让人自以为能变得强大，但实际上，真正谦卑地使用这种力量，才是科学最可贵的价值。</td>\n",
       "      <td>3</td>\n",
       "      <td>0.999998</td>\n",
       "    </tr>\n",
       "  </tbody>\n",
       "</table>\n",
       "</div>"
      ],
      "text/plain": [
       "  comment  rate                                               note  \\\n",
       "0      较差    10                 我们阿东开始炒冷饭了吗？把《禁忌魔术》中的短篇《猛射》拉长了写。。。   \n",
       "1      还行     5                        其实就是《猛射》，原封不动地。看了才发现又重看了一次。   \n",
       "2      力荐     5   东野圭吾说这本书里的汤川是整个伽利略系列里最优秀的，我倒觉得是整个系列里情商最上线、最聪明的一次   \n",
       "3      还行     3  作为扩写还是蛮成功的，本来点子就很赞，只写个短篇浪费了，长篇把相关人员的行为逻辑描写的更充分...   \n",
       "4      很差     2  这本就是上海译文之前出过的《禁忌的魔术》里的一个稍长一些的中长篇《猛射》，完全没有扩写只是单...   \n",
       "5      还行     0                                   科技没有善恶，但利用科技的人有。   \n",
       "6      还行     1                       红色封面是短篇，蓝色封面是是短篇中的一篇短篇写成的长篇。   \n",
       "7      还行     2                                       这个故事写得太无趣敷衍了   \n",
       "8      还行     2    还行吧，感觉情节没有其他书那么精彩，更多的是在知道既定真相的前提下追查求证。很喜欢汤川的人设。   \n",
       "9      还行     1       科学往往会让人自以为能变得强大，但实际上，真正谦卑地使用这种力量，才是科学最可贵的价值。   \n",
       "\n",
       "   new_comment  sentiment  \n",
       "0            2   0.999497  \n",
       "1            3   0.944956  \n",
       "2            5   0.999871  \n",
       "3            3   0.999851  \n",
       "4            1   1.000000  \n",
       "5            3   0.959072  \n",
       "6            3   0.997984  \n",
       "7            3   0.199196  \n",
       "8            3   0.999436  \n",
       "9            3   0.999998  "
      ]
     },
     "execution_count": 71,
     "metadata": {},
     "output_type": "execute_result"
    }
   ],
   "source": [
    "df.head(10)"
   ]
  },
  {
   "cell_type": "code",
   "execution_count": 72,
   "metadata": {},
   "outputs": [
    {
     "data": {
      "text/plain": [
       "0.8276493326800188"
      ]
     },
     "execution_count": 72,
     "metadata": {},
     "output_type": "execute_result"
    }
   ],
   "source": [
    "df.sentiment.mean()"
   ]
  },
  {
   "cell_type": "code",
   "execution_count": 73,
   "metadata": {},
   "outputs": [],
   "source": [
    "del df['comment']"
   ]
  },
  {
   "cell_type": "code",
   "execution_count": 74,
   "metadata": {},
   "outputs": [
    {
     "data": {
      "text/html": [
       "<div>\n",
       "<style scoped>\n",
       "    .dataframe tbody tr th:only-of-type {\n",
       "        vertical-align: middle;\n",
       "    }\n",
       "\n",
       "    .dataframe tbody tr th {\n",
       "        vertical-align: top;\n",
       "    }\n",
       "\n",
       "    .dataframe thead th {\n",
       "        text-align: right;\n",
       "    }\n",
       "</style>\n",
       "<table border=\"1\" class=\"dataframe\">\n",
       "  <thead>\n",
       "    <tr style=\"text-align: right;\">\n",
       "      <th></th>\n",
       "      <th>rate</th>\n",
       "      <th>note</th>\n",
       "      <th>new_comment</th>\n",
       "      <th>sentiment</th>\n",
       "    </tr>\n",
       "  </thead>\n",
       "  <tbody>\n",
       "    <tr>\n",
       "      <th>0</th>\n",
       "      <td>10</td>\n",
       "      <td>我们阿东开始炒冷饭了吗？把《禁忌魔术》中的短篇《猛射》拉长了写。。。</td>\n",
       "      <td>2</td>\n",
       "      <td>0.999497</td>\n",
       "    </tr>\n",
       "    <tr>\n",
       "      <th>1</th>\n",
       "      <td>5</td>\n",
       "      <td>其实就是《猛射》，原封不动地。看了才发现又重看了一次。</td>\n",
       "      <td>3</td>\n",
       "      <td>0.944956</td>\n",
       "    </tr>\n",
       "    <tr>\n",
       "      <th>2</th>\n",
       "      <td>5</td>\n",
       "      <td>东野圭吾说这本书里的汤川是整个伽利略系列里最优秀的，我倒觉得是整个系列里情商最上线、最聪明的一次</td>\n",
       "      <td>5</td>\n",
       "      <td>0.999871</td>\n",
       "    </tr>\n",
       "    <tr>\n",
       "      <th>3</th>\n",
       "      <td>3</td>\n",
       "      <td>作为扩写还是蛮成功的，本来点子就很赞，只写个短篇浪费了，长篇把相关人员的行为逻辑描写的更充分...</td>\n",
       "      <td>3</td>\n",
       "      <td>0.999851</td>\n",
       "    </tr>\n",
       "    <tr>\n",
       "      <th>4</th>\n",
       "      <td>2</td>\n",
       "      <td>这本就是上海译文之前出过的《禁忌的魔术》里的一个稍长一些的中长篇《猛射》，完全没有扩写只是单...</td>\n",
       "      <td>1</td>\n",
       "      <td>1.000000</td>\n",
       "    </tr>\n",
       "    <tr>\n",
       "      <th>...</th>\n",
       "      <td>...</td>\n",
       "      <td>...</td>\n",
       "      <td>...</td>\n",
       "      <td>...</td>\n",
       "    </tr>\n",
       "    <tr>\n",
       "      <th>575</th>\n",
       "      <td>0</td>\n",
       "      <td>感觉像是什么有教育意义的故事，并不像推理（。</td>\n",
       "      <td>2</td>\n",
       "      <td>0.987189</td>\n",
       "    </tr>\n",
       "    <tr>\n",
       "      <th>576</th>\n",
       "      <td>0</td>\n",
       "      <td>50页的短篇写成300页的长篇，东野老贼也网文化了，昏昏欲睡的一本小说</td>\n",
       "      <td>3</td>\n",
       "      <td>0.970157</td>\n",
       "    </tr>\n",
       "    <tr>\n",
       "      <th>577</th>\n",
       "      <td>0</td>\n",
       "      <td>本来看着这个书名和开头的内容一点点引人入胜，是不错的题材，但最后结局没有任何新意，没有灵魂的...</td>\n",
       "      <td>5</td>\n",
       "      <td>1.000000</td>\n",
       "    </tr>\n",
       "    <tr>\n",
       "      <th>578</th>\n",
       "      <td>1</td>\n",
       "      <td>书写的很好啦，但单单把禁忌魔术最后一个短篇拿出来，还扩写了，这个是神马操作？？？！！！真心好...</td>\n",
       "      <td>4</td>\n",
       "      <td>0.999977</td>\n",
       "    </tr>\n",
       "    <tr>\n",
       "      <th>579</th>\n",
       "      <td>0</td>\n",
       "      <td>科学技术是双刃剑呀，关键在于使用者。\\r\\n秋惠是个迷，大贺心狠，汤川是个以德以情教化学生的...</td>\n",
       "      <td>5</td>\n",
       "      <td>0.979015</td>\n",
       "    </tr>\n",
       "  </tbody>\n",
       "</table>\n",
       "<p>580 rows × 4 columns</p>\n",
       "</div>"
      ],
      "text/plain": [
       "     rate                                               note  new_comment  \\\n",
       "0      10                 我们阿东开始炒冷饭了吗？把《禁忌魔术》中的短篇《猛射》拉长了写。。。            2   \n",
       "1       5                        其实就是《猛射》，原封不动地。看了才发现又重看了一次。            3   \n",
       "2       5   东野圭吾说这本书里的汤川是整个伽利略系列里最优秀的，我倒觉得是整个系列里情商最上线、最聪明的一次            5   \n",
       "3       3  作为扩写还是蛮成功的，本来点子就很赞，只写个短篇浪费了，长篇把相关人员的行为逻辑描写的更充分...            3   \n",
       "4       2  这本就是上海译文之前出过的《禁忌的魔术》里的一个稍长一些的中长篇《猛射》，完全没有扩写只是单...            1   \n",
       "..    ...                                                ...          ...   \n",
       "575     0                             感觉像是什么有教育意义的故事，并不像推理（。            2   \n",
       "576     0                50页的短篇写成300页的长篇，东野老贼也网文化了，昏昏欲睡的一本小说            3   \n",
       "577     0  本来看着这个书名和开头的内容一点点引人入胜，是不错的题材，但最后结局没有任何新意，没有灵魂的...            5   \n",
       "578     1  书写的很好啦，但单单把禁忌魔术最后一个短篇拿出来，还扩写了，这个是神马操作？？？！！！真心好...            4   \n",
       "579     0  科学技术是双刃剑呀，关键在于使用者。\\r\\n秋惠是个迷，大贺心狠，汤川是个以德以情教化学生的...            5   \n",
       "\n",
       "     sentiment  \n",
       "0     0.999497  \n",
       "1     0.944956  \n",
       "2     0.999871  \n",
       "3     0.999851  \n",
       "4     1.000000  \n",
       "..         ...  \n",
       "575   0.987189  \n",
       "576   0.970157  \n",
       "577   1.000000  \n",
       "578   0.999977  \n",
       "579   0.979015  \n",
       "\n",
       "[580 rows x 4 columns]"
      ]
     },
     "execution_count": 74,
     "metadata": {},
     "output_type": "execute_result"
    }
   ],
   "source": [
    "df"
   ]
  },
  {
   "cell_type": "code",
   "execution_count": 75,
   "metadata": {},
   "outputs": [],
   "source": [
    "del df['rate']"
   ]
  },
  {
   "cell_type": "code",
   "execution_count": 82,
   "metadata": {},
   "outputs": [],
   "source": [
    "order = ['sentiment','note','rate','new_comment','comment']"
   ]
  },
  {
   "cell_type": "code",
   "execution_count": 84,
   "metadata": {},
   "outputs": [
    {
     "data": {
      "text/html": [
       "<div>\n",
       "<style scoped>\n",
       "    .dataframe tbody tr th:only-of-type {\n",
       "        vertical-align: middle;\n",
       "    }\n",
       "\n",
       "    .dataframe tbody tr th {\n",
       "        vertical-align: top;\n",
       "    }\n",
       "\n",
       "    .dataframe thead th {\n",
       "        text-align: right;\n",
       "    }\n",
       "</style>\n",
       "<table border=\"1\" class=\"dataframe\">\n",
       "  <thead>\n",
       "    <tr style=\"text-align: right;\">\n",
       "      <th></th>\n",
       "      <th>note</th>\n",
       "      <th>new_comment</th>\n",
       "      <th>sentiment</th>\n",
       "    </tr>\n",
       "  </thead>\n",
       "  <tbody>\n",
       "    <tr>\n",
       "      <th>0</th>\n",
       "      <td>我们阿东开始炒冷饭了吗？把《禁忌魔术》中的短篇《猛射》拉长了写。。。</td>\n",
       "      <td>2</td>\n",
       "      <td>0.999497</td>\n",
       "    </tr>\n",
       "    <tr>\n",
       "      <th>1</th>\n",
       "      <td>其实就是《猛射》，原封不动地。看了才发现又重看了一次。</td>\n",
       "      <td>3</td>\n",
       "      <td>0.944956</td>\n",
       "    </tr>\n",
       "    <tr>\n",
       "      <th>2</th>\n",
       "      <td>东野圭吾说这本书里的汤川是整个伽利略系列里最优秀的，我倒觉得是整个系列里情商最上线、最聪明的一次</td>\n",
       "      <td>5</td>\n",
       "      <td>0.999871</td>\n",
       "    </tr>\n",
       "    <tr>\n",
       "      <th>3</th>\n",
       "      <td>作为扩写还是蛮成功的，本来点子就很赞，只写个短篇浪费了，长篇把相关人员的行为逻辑描写的更充分...</td>\n",
       "      <td>3</td>\n",
       "      <td>0.999851</td>\n",
       "    </tr>\n",
       "    <tr>\n",
       "      <th>4</th>\n",
       "      <td>这本就是上海译文之前出过的《禁忌的魔术》里的一个稍长一些的中长篇《猛射》，完全没有扩写只是单...</td>\n",
       "      <td>1</td>\n",
       "      <td>1.000000</td>\n",
       "    </tr>\n",
       "    <tr>\n",
       "      <th>...</th>\n",
       "      <td>...</td>\n",
       "      <td>...</td>\n",
       "      <td>...</td>\n",
       "    </tr>\n",
       "    <tr>\n",
       "      <th>575</th>\n",
       "      <td>感觉像是什么有教育意义的故事，并不像推理（。</td>\n",
       "      <td>2</td>\n",
       "      <td>0.987189</td>\n",
       "    </tr>\n",
       "    <tr>\n",
       "      <th>576</th>\n",
       "      <td>50页的短篇写成300页的长篇，东野老贼也网文化了，昏昏欲睡的一本小说</td>\n",
       "      <td>3</td>\n",
       "      <td>0.970157</td>\n",
       "    </tr>\n",
       "    <tr>\n",
       "      <th>577</th>\n",
       "      <td>本来看着这个书名和开头的内容一点点引人入胜，是不错的题材，但最后结局没有任何新意，没有灵魂的...</td>\n",
       "      <td>5</td>\n",
       "      <td>1.000000</td>\n",
       "    </tr>\n",
       "    <tr>\n",
       "      <th>578</th>\n",
       "      <td>书写的很好啦，但单单把禁忌魔术最后一个短篇拿出来，还扩写了，这个是神马操作？？？！！！真心好...</td>\n",
       "      <td>4</td>\n",
       "      <td>0.999977</td>\n",
       "    </tr>\n",
       "    <tr>\n",
       "      <th>579</th>\n",
       "      <td>科学技术是双刃剑呀，关键在于使用者。\\r\\n秋惠是个迷，大贺心狠，汤川是个以德以情教化学生的...</td>\n",
       "      <td>5</td>\n",
       "      <td>0.979015</td>\n",
       "    </tr>\n",
       "  </tbody>\n",
       "</table>\n",
       "<p>580 rows × 3 columns</p>\n",
       "</div>"
      ],
      "text/plain": [
       "                                                  note  new_comment  sentiment\n",
       "0                   我们阿东开始炒冷饭了吗？把《禁忌魔术》中的短篇《猛射》拉长了写。。。            2   0.999497\n",
       "1                          其实就是《猛射》，原封不动地。看了才发现又重看了一次。            3   0.944956\n",
       "2     东野圭吾说这本书里的汤川是整个伽利略系列里最优秀的，我倒觉得是整个系列里情商最上线、最聪明的一次            5   0.999871\n",
       "3    作为扩写还是蛮成功的，本来点子就很赞，只写个短篇浪费了，长篇把相关人员的行为逻辑描写的更充分...            3   0.999851\n",
       "4    这本就是上海译文之前出过的《禁忌的魔术》里的一个稍长一些的中长篇《猛射》，完全没有扩写只是单...            1   1.000000\n",
       "..                                                 ...          ...        ...\n",
       "575                             感觉像是什么有教育意义的故事，并不像推理（。            2   0.987189\n",
       "576                50页的短篇写成300页的长篇，东野老贼也网文化了，昏昏欲睡的一本小说            3   0.970157\n",
       "577  本来看着这个书名和开头的内容一点点引人入胜，是不错的题材，但最后结局没有任何新意，没有灵魂的...            5   1.000000\n",
       "578  书写的很好啦，但单单把禁忌魔术最后一个短篇拿出来，还扩写了，这个是神马操作？？？！！！真心好...            4   0.999977\n",
       "579  科学技术是双刃剑呀，关键在于使用者。\\r\\n秋惠是个迷，大贺心狠，汤川是个以德以情教化学生的...            5   0.979015\n",
       "\n",
       "[580 rows x 3 columns]"
      ]
     },
     "execution_count": 84,
     "metadata": {},
     "output_type": "execute_result"
    }
   ],
   "source": [
    "df"
   ]
  },
  {
   "cell_type": "code",
   "execution_count": 85,
   "metadata": {},
   "outputs": [],
   "source": [
    "order = ['sentiment','note','new_comment']"
   ]
  },
  {
   "cell_type": "code",
   "execution_count": 86,
   "metadata": {},
   "outputs": [],
   "source": [
    "df = df[order]"
   ]
  },
  {
   "cell_type": "code",
   "execution_count": 87,
   "metadata": {},
   "outputs": [
    {
     "data": {
      "text/html": [
       "<div>\n",
       "<style scoped>\n",
       "    .dataframe tbody tr th:only-of-type {\n",
       "        vertical-align: middle;\n",
       "    }\n",
       "\n",
       "    .dataframe tbody tr th {\n",
       "        vertical-align: top;\n",
       "    }\n",
       "\n",
       "    .dataframe thead th {\n",
       "        text-align: right;\n",
       "    }\n",
       "</style>\n",
       "<table border=\"1\" class=\"dataframe\">\n",
       "  <thead>\n",
       "    <tr style=\"text-align: right;\">\n",
       "      <th></th>\n",
       "      <th>sentiment</th>\n",
       "      <th>note</th>\n",
       "      <th>new_comment</th>\n",
       "    </tr>\n",
       "  </thead>\n",
       "  <tbody>\n",
       "    <tr>\n",
       "      <th>0</th>\n",
       "      <td>0.999497</td>\n",
       "      <td>我们阿东开始炒冷饭了吗？把《禁忌魔术》中的短篇《猛射》拉长了写。。。</td>\n",
       "      <td>2</td>\n",
       "    </tr>\n",
       "    <tr>\n",
       "      <th>1</th>\n",
       "      <td>0.944956</td>\n",
       "      <td>其实就是《猛射》，原封不动地。看了才发现又重看了一次。</td>\n",
       "      <td>3</td>\n",
       "    </tr>\n",
       "    <tr>\n",
       "      <th>2</th>\n",
       "      <td>0.999871</td>\n",
       "      <td>东野圭吾说这本书里的汤川是整个伽利略系列里最优秀的，我倒觉得是整个系列里情商最上线、最聪明的一次</td>\n",
       "      <td>5</td>\n",
       "    </tr>\n",
       "    <tr>\n",
       "      <th>3</th>\n",
       "      <td>0.999851</td>\n",
       "      <td>作为扩写还是蛮成功的，本来点子就很赞，只写个短篇浪费了，长篇把相关人员的行为逻辑描写的更充分...</td>\n",
       "      <td>3</td>\n",
       "    </tr>\n",
       "    <tr>\n",
       "      <th>4</th>\n",
       "      <td>1.000000</td>\n",
       "      <td>这本就是上海译文之前出过的《禁忌的魔术》里的一个稍长一些的中长篇《猛射》，完全没有扩写只是单...</td>\n",
       "      <td>1</td>\n",
       "    </tr>\n",
       "    <tr>\n",
       "      <th>...</th>\n",
       "      <td>...</td>\n",
       "      <td>...</td>\n",
       "      <td>...</td>\n",
       "    </tr>\n",
       "    <tr>\n",
       "      <th>575</th>\n",
       "      <td>0.987189</td>\n",
       "      <td>感觉像是什么有教育意义的故事，并不像推理（。</td>\n",
       "      <td>2</td>\n",
       "    </tr>\n",
       "    <tr>\n",
       "      <th>576</th>\n",
       "      <td>0.970157</td>\n",
       "      <td>50页的短篇写成300页的长篇，东野老贼也网文化了，昏昏欲睡的一本小说</td>\n",
       "      <td>3</td>\n",
       "    </tr>\n",
       "    <tr>\n",
       "      <th>577</th>\n",
       "      <td>1.000000</td>\n",
       "      <td>本来看着这个书名和开头的内容一点点引人入胜，是不错的题材，但最后结局没有任何新意，没有灵魂的...</td>\n",
       "      <td>5</td>\n",
       "    </tr>\n",
       "    <tr>\n",
       "      <th>578</th>\n",
       "      <td>0.999977</td>\n",
       "      <td>书写的很好啦，但单单把禁忌魔术最后一个短篇拿出来，还扩写了，这个是神马操作？？？！！！真心好...</td>\n",
       "      <td>4</td>\n",
       "    </tr>\n",
       "    <tr>\n",
       "      <th>579</th>\n",
       "      <td>0.979015</td>\n",
       "      <td>科学技术是双刃剑呀，关键在于使用者。\\r\\n秋惠是个迷，大贺心狠，汤川是个以德以情教化学生的...</td>\n",
       "      <td>5</td>\n",
       "    </tr>\n",
       "  </tbody>\n",
       "</table>\n",
       "<p>580 rows × 3 columns</p>\n",
       "</div>"
      ],
      "text/plain": [
       "     sentiment                                               note  new_comment\n",
       "0     0.999497                 我们阿东开始炒冷饭了吗？把《禁忌魔术》中的短篇《猛射》拉长了写。。。            2\n",
       "1     0.944956                        其实就是《猛射》，原封不动地。看了才发现又重看了一次。            3\n",
       "2     0.999871   东野圭吾说这本书里的汤川是整个伽利略系列里最优秀的，我倒觉得是整个系列里情商最上线、最聪明的一次            5\n",
       "3     0.999851  作为扩写还是蛮成功的，本来点子就很赞，只写个短篇浪费了，长篇把相关人员的行为逻辑描写的更充分...            3\n",
       "4     1.000000  这本就是上海译文之前出过的《禁忌的魔术》里的一个稍长一些的中长篇《猛射》，完全没有扩写只是单...            1\n",
       "..         ...                                                ...          ...\n",
       "575   0.987189                             感觉像是什么有教育意义的故事，并不像推理（。            2\n",
       "576   0.970157                50页的短篇写成300页的长篇，东野老贼也网文化了，昏昏欲睡的一本小说            3\n",
       "577   1.000000  本来看着这个书名和开头的内容一点点引人入胜，是不错的题材，但最后结局没有任何新意，没有灵魂的...            5\n",
       "578   0.999977  书写的很好啦，但单单把禁忌魔术最后一个短篇拿出来，还扩写了，这个是神马操作？？？！！！真心好...            4\n",
       "579   0.979015  科学技术是双刃剑呀，关键在于使用者。\\r\\n秋惠是个迷，大贺心狠，汤川是个以德以情教化学生的...            5\n",
       "\n",
       "[580 rows x 3 columns]"
      ]
     },
     "execution_count": 87,
     "metadata": {},
     "output_type": "execute_result"
    }
   ],
   "source": [
    "df"
   ]
  },
  {
   "cell_type": "code",
   "execution_count": 89,
   "metadata": {},
   "outputs": [],
   "source": [
    "df.rename(columns={'new_star':'n_star','note':'n_note'},inplace=True)"
   ]
  },
  {
   "cell_type": "code",
   "execution_count": 90,
   "metadata": {},
   "outputs": [],
   "source": [
    "df.to_csv('result.csv',index=None)"
   ]
  },
  {
   "cell_type": "code",
   "execution_count": null,
   "metadata": {},
   "outputs": [],
   "source": []
  }
 ],
 "metadata": {
  "kernelspec": {
   "display_name": "Python 3",
   "language": "python",
   "name": "python3"
  },
  "language_info": {
   "codemirror_mode": {
    "name": "ipython",
    "version": 3
   },
   "file_extension": ".py",
   "mimetype": "text/x-python",
   "name": "python",
   "nbconvert_exporter": "python",
   "pygments_lexer": "ipython3",
   "version": "3.7.6"
  }
 },
 "nbformat": 4,
 "nbformat_minor": 4
}
